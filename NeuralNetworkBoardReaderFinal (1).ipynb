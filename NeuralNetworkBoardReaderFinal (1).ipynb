{
  "nbformat": 4,
  "nbformat_minor": 0,
  "metadata": {
    "colab": {
      "provenance": [],
      "gpuType": "T4"
    },
    "kernelspec": {
      "name": "python3",
      "display_name": "Python 3"
    },
    "language_info": {
      "name": "python"
    },
    "accelerator": "GPU"
  },
  "cells": [
    {
      "cell_type": "code",
      "execution_count": 1,
      "metadata": {
        "id": "EwgGQlvsVwhg"
      },
      "outputs": [],
      "source": [
        "import string\n",
        "import random\n",
        "from random import randint\n",
        "import cv2\n",
        "import numpy as np\n",
        "import os\n",
        "from PIL import Image, ImageFont, ImageDraw"
      ]
    },
    {
      "cell_type": "markdown",
      "source": [
        "#Making the directory where boards will be saved\n"
      ],
      "metadata": {
        "id": "elvD764LV7hm"
      }
    },
    {
      "cell_type": "code",
      "source": [
        "# Run this command only once:\n",
        "\n",
        "# makes the output folder /content/boards/\n",
        "!mkdir boards"
      ],
      "metadata": {
        "id": "N99KHEgyV4xm"
      },
      "execution_count": 2,
      "outputs": []
    },
    {
      "cell_type": "code",
      "source": [
        "from google.colab import drive\n",
        "drive.mount('/content/drive')"
      ],
      "metadata": {
        "colab": {
          "base_uri": "https://localhost:8080/"
        },
        "id": "GneXsJNzWGVe",
        "outputId": "5a62731c-6ad5-4e25-9e0d-8de7e2551a0f"
      },
      "execution_count": 3,
      "outputs": [
        {
          "output_type": "stream",
          "name": "stdout",
          "text": [
            "Mounted at /content/drive\n"
          ]
        }
      ]
    },
    {
      "cell_type": "markdown",
      "source": [
        "#Board Generator"
      ],
      "metadata": {
        "id": "pjgkZ9T6WTEi"
      }
    },
    {
      "cell_type": "code",
      "source": [
        "#!/usr/bin/env python3\n",
        "\n",
        "import cv2\n",
        "import csv\n",
        "import numpy as np\n",
        "import os\n",
        "import random\n",
        "from PIL import Image, ImageFont, ImageDraw\n",
        "\n",
        "entries = {'SIZE': [''.join(random.choices(string.ascii_uppercase + string.digits + ' ', k=12)) for _ in range(20)],\n",
        "           'VICTIM': [''.join(random.choices(string.ascii_uppercase + string.digits+ ' ', k=12)) for _ in range(20)],\n",
        "           'CRIME': [''.join(random.choices(string.ascii_uppercase + string.digits+ ' ', k=12)) for _ in range(20)],\n",
        "           'TIME': [''.join(random.choices(string.ascii_uppercase + string.digits+ ' ', k=12)) for _ in range(20)],\n",
        "           'PLACE': [''.join(random.choices(string.ascii_uppercase + string.digits+ ' ', k=12)) for _ in range(20)],\n",
        "           'MOTIVE': [''.join(random.choices(string.ascii_uppercase + string.digits+ ' ', k=12)) for _ in range(20)],\n",
        "           'WEAPON': [''.join(random.choices(string.ascii_uppercase + string.digits+ ' ', k=12)) for _ in range(20)],\n",
        "           'BANDIT': [''.join(random.choices(string.ascii_uppercase + string.digits+ ' ', k=12)) for _ in range(20)]}\n",
        "\n",
        "num_boards = 200\n",
        "\n",
        "# Find the path to this script\n",
        "SCRIPT_PATH = os.getcwd() + \"/\"\n",
        "TEXTURE_PATH = '/content/drive/MyDrive/textures/'\n",
        "\n",
        "# Load the banner image\n",
        "banner_canvas = cv2.imread('/content/drive/MyDrive/clue_banner.png')\n",
        "PLATE_HEIGHT = 600\n",
        "PLATE_WIDTH = banner_canvas.shape[1]\n",
        "IMG_DEPTH = 3\n",
        "\n",
        "# write plates to plates.csv\n",
        "with open(SCRIPT_PATH + \"plates.csv\", 'w') as plates_file:\n",
        "    csvwriter = csv.writer(plates_file)\n",
        "\n",
        "    for i in range(num_boards):\n",
        "        # pick a random key from entries\n",
        "        key = random.choice(list(entries.keys()))\n",
        "\n",
        "        # pick a random value for the selected key\n",
        "        random_value = random.choice(entries[key])\n",
        "\n",
        "        # write the key-value pair to plates.csv\n",
        "        csvwriter.writerow([key, random_value])\n",
        "\n",
        "        # Generate plate\n",
        "        blank_plate_pil = Image.fromarray(banner_canvas)\n",
        "        draw = ImageDraw.Draw(blank_plate_pil)\n",
        "        font_size = 90\n",
        "        monospace = ImageFont.truetype(\"/content/drive/MyDrive/UbuntuMono-R.ttf\", font_size)\n",
        "        font_color = (255, 0, 0)\n",
        "        draw.text((250, 30), key, font_color, font=monospace)\n",
        "        draw.text((30, 250), random_value, font_color, font=monospace)\n",
        "        populated_banner = np.array(blank_plate_pil)\n",
        "\n",
        "        # Save image\n",
        "        cv2.imwrite(os.path.join(\"/content/boards\", f\"plate_{key}_{random_value}.png\"), populated_banner)"
      ],
      "metadata": {
        "id": "zzr8Nn7hWIT1"
      },
      "execution_count": 4,
      "outputs": []
    },
    {
      "cell_type": "markdown",
      "source": [
        "#Pre-processing of image + Loading datasets"
      ],
      "metadata": {
        "id": "SCIMvuqRWs5z"
      }
    },
    {
      "cell_type": "code",
      "source": [
        "import cv2\n",
        "import os\n",
        "import numpy as np\n",
        "from sklearn.model_selection import train_test_split\n",
        "from tensorflow.keras.utils import to_categorical\n",
        "import matplotlib.pyplot as plt\n",
        "\n",
        "# Function to load and preprocess an image\n",
        "def preprocess_image(image_path):\n",
        "    image = cv2.imread(image_path, cv2.IMREAD_GRAYSCALE)  # Read the image in grayscale\n",
        "    # Apply any additional preprocessing steps here (resizing, normalization, etc.)\n",
        "    return image\n",
        "\n",
        "# Function to split the category and the word and split them into letters\n",
        "def split_image(imagepath):\n",
        "\n",
        "    image = preprocess_image(imagepath)\n",
        "\n",
        "    filename = os.path.basename(imagepath)\n",
        "\n",
        "    # Assuming the image is evenly split into 4 parts\n",
        "    h, w = image.shape\n",
        "\n",
        "    category_top_crop = int(0.05 * h)  # Calculate the number of rows to crop from the top\n",
        "    category_bottom_crop = int(0.65 * h)  # Calculate the number of rows to crop from the bottom\n",
        "\n",
        "    category_right_crop = int(0.13 * w)  # Calculate the number of columns to crop from the right\n",
        "    category_left_crop = int(0.42 * w)  # Calculate the number of columns to crop from the left\n",
        "\n",
        "    cropped_image_category = image[category_top_crop:h - category_bottom_crop, category_left_crop:w - category_right_crop]\n",
        "\n",
        "    word_top_crop = int(0.55 * h)  # Calculate the number of rows to crop from the top\n",
        "    word_bottom_crop = int(0.15 * h)  # Calculate the number of rows to crop from the bottom\n",
        "\n",
        "    word_right_crop = int(0.05 * w)  # Calculate the number of columns to crop from the right\n",
        "    word_left_crop = int(0.05*w)  # Calculate the number of columns to crop from the left\n",
        "\n",
        "    cropped_image_word = image[word_top_crop:h - word_bottom_crop, word_left_crop:w - word_right_crop]\n",
        "\n",
        "    h1, w1 = cropped_image_category.shape\n",
        "    h2, w2 = cropped_image_word.shape\n",
        "\n",
        "    letter_width_category = int(w1 / 6)  # Calculate the width of each letter (category)\n",
        "    letter_width_word = int(w2 / 12)  # Calculate the width of each letter (word)\n",
        "\n",
        "    # Splitting the letters\n",
        "    letters_category = [cropped_image_category[:, i * letter_width_category: (i + 1) * letter_width_category] for i in range(6)]\n",
        "    letters_word = [cropped_image_word[:, i * letter_width_word: (i + 1) * letter_width_word] for i in range(12)]\n",
        "\n",
        "    # Splitting the filename\n",
        "    parts = filename.split('_')\n",
        "    category_ground_truth_labels = parts[1]\n",
        "    word_ground_truth_labels = '_'.join(parts[2:])\n",
        "\n",
        "    return letters_category, category_ground_truth_labels, letters_word, word_ground_truth_labels\n",
        "\n",
        "def load_dataset():\n",
        "    data = []\n",
        "    labels = []\n",
        "\n",
        "    input_image_folder = \"/content/boards\"\n",
        "    output_folder_letters = \"/content/categories\"\n",
        "\n",
        "    os.makedirs(output_folder_letters, exist_ok=True)\n",
        "\n",
        "    i = 0\n",
        "\n",
        "    for filename in os.listdir(input_image_folder):\n",
        "        if filename.endswith('.jpg') or filename.endswith('.png'):\n",
        "\n",
        "            i += 1\n",
        "\n",
        "            image_path = os.path.join(input_image_folder, filename)\n",
        "\n",
        "            # Split the license plate image into 4 letters\n",
        "            letters_category, category_ground_truth_labels, letters_word, word_ground_truth_labels = split_image(image_path)\n",
        "\n",
        "            # Create a subdirectory for each input image in the output folder\n",
        "            output_subfolder_letters = os.path.join(output_folder_letters, os.path.splitext(filename)[0])\n",
        "            os.makedirs(output_subfolder_letters, exist_ok=True)\n",
        "\n",
        "            for i, letter_image in enumerate(letters_category):\n",
        "                output_path_c = os.path.join(output_subfolder_letters, f\"categoryletter_{i + 1}.png\")\n",
        "                cv2.imwrite(output_path_c, letter_image)\n",
        "\n",
        "            for i, letter_image in enumerate(letters_word):\n",
        "                output_path_w = os.path.join(output_subfolder_letters, f\"wordletter_{i + 1}.png\")\n",
        "                cv2.imwrite(output_path_w, letter_image)\n",
        "\n",
        "            for i in range(len(category_ground_truth_labels)):\n",
        "                data.append(letters_category[i])  # Append individual letter images\n",
        "                labels.append(category_ground_truth_labels[i])  # Assuming ground truth labels are in order\n",
        "\n",
        "            for i in range(12):\n",
        "                data.append(letters_word[i])\n",
        "                labels.append(word_ground_truth_labels[i])\n",
        "\n",
        "    return data, labels\n",
        "\n",
        "data, labels = load_dataset()\n",
        "\n",
        "data = np.array(data)\n",
        "labels = np.array(labels)\n",
        "\n",
        "# Perform one-hot encoding on the labels\n",
        "characters = \" \" + string.ascii_uppercase + string.digits\n",
        "\n",
        "# Create a dictionary that maps each character to its index\n",
        "label_dict = {char: i for i, char in enumerate(characters)}\n",
        "encoded_labels = to_categorical(np.vectorize(label_dict.get)(labels), num_classes=len(label_dict))\n",
        "\n",
        "# Split the category dataset into training and testing sets\n",
        "train_data, test_data, train_labels, test_labels = train_test_split(data, encoded_labels, test_size=0.2, random_state=42)"
      ],
      "metadata": {
        "id": "lKaZK-3TWZ68"
      },
      "execution_count": 15,
      "outputs": []
    },
    {
      "cell_type": "markdown",
      "source": [
        "#Making the CNN"
      ],
      "metadata": {
        "id": "u4EcBr_LcD7p"
      }
    },
    {
      "cell_type": "code",
      "source": [
        "from tensorflow.keras import layers\n",
        "from tensorflow.keras import models\n",
        "from tensorflow.keras import optimizers\n",
        "\n",
        "from tensorflow.keras.utils import plot_model\n",
        "from tensorflow.keras import backend"
      ],
      "metadata": {
        "id": "YI299b0TcGMo"
      },
      "execution_count": 16,
      "outputs": []
    },
    {
      "cell_type": "markdown",
      "source": [
        "##Reinitializing model parameters"
      ],
      "metadata": {
        "id": "NoJda8secOBK"
      }
    },
    {
      "cell_type": "code",
      "source": [
        "# This is a function used to reinitialize the model parameters (weights and biases)\n",
        "\n",
        "def reset_weights(model):\n",
        "  for ix, layer in enumerate(model.layers):\n",
        "      if (hasattr(model.layers[ix], 'kernel_initializer') and\n",
        "          hasattr(model.layers[ix], 'bias_initializer')):\n",
        "          weight_initializer = model.layers[ix].kernel_initializer\n",
        "          bias_initializer = model.layers[ix].bias_initializer\n",
        "\n",
        "          old_weights, old_biases = model.layers[ix].get_weights()\n",
        "\n",
        "          model.layers[ix].set_weights([\n",
        "              weight_initializer(shape=old_weights.shape),\n",
        "              bias_initializer(shape=len(old_biases))])"
      ],
      "metadata": {
        "id": "WIQnR5vPcIdi"
      },
      "execution_count": 17,
      "outputs": []
    },
    {
      "cell_type": "markdown",
      "source": [
        "##Creating the CNN model"
      ],
      "metadata": {
        "id": "Bqho4Kq-conb"
      }
    },
    {
      "cell_type": "code",
      "source": [
        "# Define the CNN model\n",
        "def create_cnn_model(input_shape):\n",
        "    model = models.Sequential()\n",
        "\n",
        "    # Add a Conv2D layer with 32 filters, a 3x3 kernel, and 'relu' activation function\n",
        "    model.add(layers.Conv2D(32, (3, 3), activation='relu', input_shape=input_shape))\n",
        "    model.add(layers.MaxPooling2D((2, 2)))\n",
        "\n",
        "    # Add another Conv2D layer with 64 filters, a 3x3 kernel, and 'relu' activation function\n",
        "    model.add(layers.Conv2D(64, (3, 3), activation='relu'))\n",
        "    model.add(layers.MaxPooling2D((2, 2)))\n",
        "\n",
        "    # Add a Flatten layer to flatten the 2D output to 1D\n",
        "    model.add(layers.Flatten())\n",
        "\n",
        "    # Add a Dense layer with 128 units and 'relu' activation function\n",
        "    model.add(layers.Dense(128, activation='relu'))\n",
        "\n",
        "    # Add the output layer with the number of classes and 'softmax' activation function\n",
        "    num_classes = len(label_dict)\n",
        "    model.add(layers.Dense(num_classes, activation='softmax'))\n",
        "\n",
        "    # Compile the model with 'adam' optimizer, 'categorical_crossentropy' loss, and 'accuracy' metric\n",
        "    model.compile(optimizer='adam', loss='categorical_crossentropy', metrics=['accuracy'])\n",
        "\n",
        "    return model"
      ],
      "metadata": {
        "id": "TY0Zlw5rckR_"
      },
      "execution_count": 18,
      "outputs": []
    },
    {
      "cell_type": "code",
      "source": [
        "# Assuming each letter image has shape (height, width, channels)\n",
        "input_shape = data[0].shape + (1,)  # Add a channel dimension for grayscale images\n",
        "\n",
        "print(input_shape)\n",
        "\n",
        "# Create the CNN model\n",
        "conv_model = create_cnn_model(input_shape)\n",
        "\n",
        "# Print the model summary\n",
        "conv_model.summary()"
      ],
      "metadata": {
        "colab": {
          "base_uri": "https://localhost:8080/"
        },
        "id": "_ZuoWhN-cvH8",
        "outputId": "b5a0fef6-4cbc-4cfc-8928-6865da1a9aee"
      },
      "execution_count": 19,
      "outputs": [
        {
          "output_type": "stream",
          "name": "stdout",
          "text": [
            "(120, 45, 1)\n",
            "Model: \"sequential_1\"\n",
            "_________________________________________________________________\n",
            " Layer (type)                Output Shape              Param #   \n",
            "=================================================================\n",
            " conv2d_2 (Conv2D)           (None, 118, 43, 32)       320       \n",
            "                                                                 \n",
            " max_pooling2d_2 (MaxPoolin  (None, 59, 21, 32)        0         \n",
            " g2D)                                                            \n",
            "                                                                 \n",
            " conv2d_3 (Conv2D)           (None, 57, 19, 64)        18496     \n",
            "                                                                 \n",
            " max_pooling2d_3 (MaxPoolin  (None, 28, 9, 64)         0         \n",
            " g2D)                                                            \n",
            "                                                                 \n",
            " flatten_1 (Flatten)         (None, 16128)             0         \n",
            "                                                                 \n",
            " dense_2 (Dense)             (None, 128)               2064512   \n",
            "                                                                 \n",
            " dense_3 (Dense)             (None, 37)                4773      \n",
            "                                                                 \n",
            "=================================================================\n",
            "Total params: 2088101 (7.97 MB)\n",
            "Trainable params: 2088101 (7.97 MB)\n",
            "Non-trainable params: 0 (0.00 Byte)\n",
            "_________________________________________________________________\n"
          ]
        }
      ]
    },
    {
      "cell_type": "markdown",
      "source": [
        "##Resetting weights"
      ],
      "metadata": {
        "id": "wpOAfW15dIFX"
      }
    },
    {
      "cell_type": "code",
      "source": [
        "reset_weights(conv_model)"
      ],
      "metadata": {
        "colab": {
          "base_uri": "https://localhost:8080/"
        },
        "id": "SowQa6DWdMrk",
        "outputId": "e5133c7a-52d2-4c70-eda5-1c4e1ccdc6bb"
      },
      "execution_count": 20,
      "outputs": [
        {
          "output_type": "stream",
          "name": "stderr",
          "text": [
            "/usr/local/lib/python3.10/dist-packages/keras/src/initializers/initializers.py:120: UserWarning: The initializer GlorotUniform is unseeded and being called multiple times, which will return identical values each time (even if the initializer is unseeded). Please update your code to provide a seed to the initializer, or avoid using the same initializer instance more than once.\n",
            "  warnings.warn(\n"
          ]
        }
      ]
    },
    {
      "cell_type": "markdown",
      "source": [
        "##Training the model"
      ],
      "metadata": {
        "id": "Ve-A_g48dRyo"
      }
    },
    {
      "cell_type": "code",
      "source": [
        "history_conv = conv_model.fit(train_data, train_labels,\n",
        "                              validation_data=(test_data, test_labels),\n",
        "                              epochs=80,\n",
        "                              batch_size=16)"
      ],
      "metadata": {
        "colab": {
          "base_uri": "https://localhost:8080/"
        },
        "id": "UaOfRxQtdQIy",
        "outputId": "52a76559-9c15-416e-d039-61544592373d"
      },
      "execution_count": 21,
      "outputs": [
        {
          "output_type": "stream",
          "name": "stdout",
          "text": [
            "Epoch 1/80\n",
            "100/100 [==============================] - 2s 10ms/step - loss: 17.1201 - accuracy: 0.8110 - val_loss: 0.0654 - val_accuracy: 0.9825\n",
            "Epoch 2/80\n",
            "100/100 [==============================] - 1s 11ms/step - loss: 0.0596 - accuracy: 0.9969 - val_loss: 0.0612 - val_accuracy: 1.0000\n",
            "Epoch 3/80\n",
            "100/100 [==============================] - 1s 8ms/step - loss: 0.0560 - accuracy: 1.0000 - val_loss: 0.0588 - val_accuracy: 1.0000\n",
            "Epoch 4/80\n",
            "100/100 [==============================] - 1s 7ms/step - loss: 0.0534 - accuracy: 1.0000 - val_loss: 0.0558 - val_accuracy: 1.0000\n",
            "Epoch 5/80\n",
            "100/100 [==============================] - 1s 6ms/step - loss: 0.0497 - accuracy: 1.0000 - val_loss: 0.0509 - val_accuracy: 1.0000\n",
            "Epoch 6/80\n",
            "100/100 [==============================] - 1s 6ms/step - loss: 0.0449 - accuracy: 1.0000 - val_loss: 0.0449 - val_accuracy: 1.0000\n",
            "Epoch 7/80\n",
            "100/100 [==============================] - 1s 6ms/step - loss: 0.0387 - accuracy: 1.0000 - val_loss: 0.0376 - val_accuracy: 1.0000\n",
            "Epoch 8/80\n",
            "100/100 [==============================] - 1s 6ms/step - loss: 0.0313 - accuracy: 1.0000 - val_loss: 0.0298 - val_accuracy: 1.0000\n",
            "Epoch 9/80\n",
            "100/100 [==============================] - 1s 5ms/step - loss: 0.0234 - accuracy: 1.0000 - val_loss: 0.0211 - val_accuracy: 1.0000\n",
            "Epoch 10/80\n",
            "100/100 [==============================] - 1s 6ms/step - loss: 0.0159 - accuracy: 1.0000 - val_loss: 0.0136 - val_accuracy: 1.0000\n",
            "Epoch 11/80\n",
            "100/100 [==============================] - 1s 6ms/step - loss: 0.0102 - accuracy: 1.0000 - val_loss: 0.0084 - val_accuracy: 1.0000\n",
            "Epoch 12/80\n",
            "100/100 [==============================] - 1s 5ms/step - loss: 0.0065 - accuracy: 1.0000 - val_loss: 0.0056 - val_accuracy: 1.0000\n",
            "Epoch 13/80\n",
            "100/100 [==============================] - 1s 6ms/step - loss: 0.0043 - accuracy: 1.0000 - val_loss: 0.0037 - val_accuracy: 1.0000\n",
            "Epoch 14/80\n",
            "100/100 [==============================] - 1s 6ms/step - loss: 0.0030 - accuracy: 1.0000 - val_loss: 0.0027 - val_accuracy: 1.0000\n",
            "Epoch 15/80\n",
            "100/100 [==============================] - 1s 6ms/step - loss: 0.0022 - accuracy: 1.0000 - val_loss: 0.0021 - val_accuracy: 1.0000\n",
            "Epoch 16/80\n",
            "100/100 [==============================] - 1s 6ms/step - loss: 0.0017 - accuracy: 1.0000 - val_loss: 0.0016 - val_accuracy: 1.0000\n",
            "Epoch 17/80\n",
            "100/100 [==============================] - 1s 6ms/step - loss: 0.0013 - accuracy: 1.0000 - val_loss: 0.0013 - val_accuracy: 1.0000\n",
            "Epoch 18/80\n",
            "100/100 [==============================] - 1s 6ms/step - loss: 0.0011 - accuracy: 1.0000 - val_loss: 0.0010 - val_accuracy: 1.0000\n",
            "Epoch 19/80\n",
            "100/100 [==============================] - 1s 5ms/step - loss: 8.8639e-04 - accuracy: 1.0000 - val_loss: 8.6498e-04 - val_accuracy: 1.0000\n",
            "Epoch 20/80\n",
            "100/100 [==============================] - 1s 6ms/step - loss: 7.4240e-04 - accuracy: 1.0000 - val_loss: 7.2903e-04 - val_accuracy: 1.0000\n",
            "Epoch 21/80\n",
            "100/100 [==============================] - 1s 6ms/step - loss: 6.3090e-04 - accuracy: 1.0000 - val_loss: 6.2508e-04 - val_accuracy: 1.0000\n",
            "Epoch 22/80\n",
            "100/100 [==============================] - 1s 6ms/step - loss: 5.4107e-04 - accuracy: 1.0000 - val_loss: 5.4059e-04 - val_accuracy: 1.0000\n",
            "Epoch 23/80\n",
            "100/100 [==============================] - 1s 8ms/step - loss: 4.7073e-04 - accuracy: 1.0000 - val_loss: 4.6646e-04 - val_accuracy: 1.0000\n",
            "Epoch 24/80\n",
            "100/100 [==============================] - 1s 8ms/step - loss: 4.1086e-04 - accuracy: 1.0000 - val_loss: 4.1005e-04 - val_accuracy: 1.0000\n",
            "Epoch 25/80\n",
            "100/100 [==============================] - 1s 8ms/step - loss: 3.6155e-04 - accuracy: 1.0000 - val_loss: 3.6394e-04 - val_accuracy: 1.0000\n",
            "Epoch 26/80\n",
            "100/100 [==============================] - 1s 6ms/step - loss: 3.2006e-04 - accuracy: 1.0000 - val_loss: 3.2409e-04 - val_accuracy: 1.0000\n",
            "Epoch 27/80\n",
            "100/100 [==============================] - 1s 6ms/step - loss: 2.8499e-04 - accuracy: 1.0000 - val_loss: 2.8947e-04 - val_accuracy: 1.0000\n",
            "Epoch 28/80\n",
            "100/100 [==============================] - 1s 6ms/step - loss: 2.5531e-04 - accuracy: 1.0000 - val_loss: 2.5945e-04 - val_accuracy: 1.0000\n",
            "Epoch 29/80\n",
            "100/100 [==============================] - 1s 6ms/step - loss: 2.2926e-04 - accuracy: 1.0000 - val_loss: 2.3494e-04 - val_accuracy: 1.0000\n",
            "Epoch 30/80\n",
            "100/100 [==============================] - 1s 6ms/step - loss: 2.0719e-04 - accuracy: 1.0000 - val_loss: 2.1002e-04 - val_accuracy: 1.0000\n",
            "Epoch 31/80\n",
            "100/100 [==============================] - 1s 6ms/step - loss: 1.8749e-04 - accuracy: 1.0000 - val_loss: 1.9107e-04 - val_accuracy: 1.0000\n",
            "Epoch 32/80\n",
            "100/100 [==============================] - 1s 6ms/step - loss: 1.7000e-04 - accuracy: 1.0000 - val_loss: 1.7544e-04 - val_accuracy: 1.0000\n",
            "Epoch 33/80\n",
            "100/100 [==============================] - 1s 6ms/step - loss: 1.5492e-04 - accuracy: 1.0000 - val_loss: 1.5950e-04 - val_accuracy: 1.0000\n",
            "Epoch 34/80\n",
            "100/100 [==============================] - 1s 5ms/step - loss: 1.4136e-04 - accuracy: 1.0000 - val_loss: 1.4560e-04 - val_accuracy: 1.0000\n",
            "Epoch 35/80\n",
            "100/100 [==============================] - 1s 6ms/step - loss: 1.2932e-04 - accuracy: 1.0000 - val_loss: 1.3290e-04 - val_accuracy: 1.0000\n",
            "Epoch 36/80\n",
            "100/100 [==============================] - 1s 6ms/step - loss: 1.1866e-04 - accuracy: 1.0000 - val_loss: 1.2175e-04 - val_accuracy: 1.0000\n",
            "Epoch 37/80\n",
            "100/100 [==============================] - 1s 6ms/step - loss: 1.0897e-04 - accuracy: 1.0000 - val_loss: 1.1247e-04 - val_accuracy: 1.0000\n",
            "Epoch 38/80\n",
            "100/100 [==============================] - 1s 6ms/step - loss: 1.0044e-04 - accuracy: 1.0000 - val_loss: 1.0353e-04 - val_accuracy: 1.0000\n",
            "Epoch 39/80\n",
            "100/100 [==============================] - 1s 5ms/step - loss: 9.2625e-05 - accuracy: 1.0000 - val_loss: 9.5399e-05 - val_accuracy: 1.0000\n",
            "Epoch 40/80\n",
            "100/100 [==============================] - 1s 6ms/step - loss: 8.5570e-05 - accuracy: 1.0000 - val_loss: 8.8151e-05 - val_accuracy: 1.0000\n",
            "Epoch 41/80\n",
            "100/100 [==============================] - 1s 6ms/step - loss: 7.9172e-05 - accuracy: 1.0000 - val_loss: 8.1683e-05 - val_accuracy: 1.0000\n",
            "Epoch 42/80\n",
            "100/100 [==============================] - 1s 6ms/step - loss: 7.3320e-05 - accuracy: 1.0000 - val_loss: 7.5860e-05 - val_accuracy: 1.0000\n",
            "Epoch 43/80\n",
            "100/100 [==============================] - 1s 5ms/step - loss: 6.7986e-05 - accuracy: 1.0000 - val_loss: 7.0093e-05 - val_accuracy: 1.0000\n",
            "Epoch 44/80\n",
            "100/100 [==============================] - 1s 7ms/step - loss: 6.3104e-05 - accuracy: 1.0000 - val_loss: 6.5436e-05 - val_accuracy: 1.0000\n",
            "Epoch 45/80\n",
            "100/100 [==============================] - 1s 7ms/step - loss: 5.8631e-05 - accuracy: 1.0000 - val_loss: 6.0784e-05 - val_accuracy: 1.0000\n",
            "Epoch 46/80\n",
            "100/100 [==============================] - 1s 7ms/step - loss: 5.4577e-05 - accuracy: 1.0000 - val_loss: 5.6487e-05 - val_accuracy: 1.0000\n",
            "Epoch 47/80\n",
            "100/100 [==============================] - 1s 7ms/step - loss: 5.0790e-05 - accuracy: 1.0000 - val_loss: 5.2753e-05 - val_accuracy: 1.0000\n",
            "Epoch 48/80\n",
            "100/100 [==============================] - 1s 7ms/step - loss: 4.7361e-05 - accuracy: 1.0000 - val_loss: 4.8943e-05 - val_accuracy: 1.0000\n",
            "Epoch 49/80\n",
            "100/100 [==============================] - 1s 6ms/step - loss: 4.4139e-05 - accuracy: 1.0000 - val_loss: 4.5858e-05 - val_accuracy: 1.0000\n",
            "Epoch 50/80\n",
            "100/100 [==============================] - 1s 6ms/step - loss: 4.1230e-05 - accuracy: 1.0000 - val_loss: 4.2751e-05 - val_accuracy: 1.0000\n",
            "Epoch 51/80\n",
            "100/100 [==============================] - 1s 6ms/step - loss: 3.8515e-05 - accuracy: 1.0000 - val_loss: 3.9979e-05 - val_accuracy: 1.0000\n",
            "Epoch 52/80\n",
            "100/100 [==============================] - 1s 6ms/step - loss: 3.6021e-05 - accuracy: 1.0000 - val_loss: 3.7385e-05 - val_accuracy: 1.0000\n",
            "Epoch 53/80\n",
            "100/100 [==============================] - 1s 5ms/step - loss: 3.3676e-05 - accuracy: 1.0000 - val_loss: 3.4955e-05 - val_accuracy: 1.0000\n",
            "Epoch 54/80\n",
            "100/100 [==============================] - 1s 6ms/step - loss: 3.1488e-05 - accuracy: 1.0000 - val_loss: 3.2825e-05 - val_accuracy: 1.0000\n",
            "Epoch 55/80\n",
            "100/100 [==============================] - 1s 6ms/step - loss: 2.9518e-05 - accuracy: 1.0000 - val_loss: 3.0587e-05 - val_accuracy: 1.0000\n",
            "Epoch 56/80\n",
            "100/100 [==============================] - 1s 6ms/step - loss: 0.8335 - accuracy: 0.9869 - val_loss: 19.5914 - val_accuracy: 0.3000\n",
            "Epoch 57/80\n",
            "100/100 [==============================] - 1s 5ms/step - loss: 1.2698 - accuracy: 0.8974 - val_loss: 2.2011e-04 - val_accuracy: 1.0000\n",
            "Epoch 58/80\n",
            "100/100 [==============================] - 1s 6ms/step - loss: 1.3863e-04 - accuracy: 1.0000 - val_loss: 1.0835e-04 - val_accuracy: 1.0000\n",
            "Epoch 59/80\n",
            "100/100 [==============================] - 1s 6ms/step - loss: 9.6189e-05 - accuracy: 1.0000 - val_loss: 9.3199e-05 - val_accuracy: 1.0000\n",
            "Epoch 60/80\n",
            "100/100 [==============================] - 1s 6ms/step - loss: 8.5232e-05 - accuracy: 1.0000 - val_loss: 8.6683e-05 - val_accuracy: 1.0000\n",
            "Epoch 61/80\n",
            "100/100 [==============================] - 1s 6ms/step - loss: 7.9936e-05 - accuracy: 1.0000 - val_loss: 8.2672e-05 - val_accuracy: 1.0000\n",
            "Epoch 62/80\n",
            "100/100 [==============================] - 1s 6ms/step - loss: 7.6453e-05 - accuracy: 1.0000 - val_loss: 7.9811e-05 - val_accuracy: 1.0000\n",
            "Epoch 63/80\n",
            "100/100 [==============================] - 1s 6ms/step - loss: 7.3774e-05 - accuracy: 1.0000 - val_loss: 7.7400e-05 - val_accuracy: 1.0000\n",
            "Epoch 64/80\n",
            "100/100 [==============================] - 1s 5ms/step - loss: 7.1515e-05 - accuracy: 1.0000 - val_loss: 7.5413e-05 - val_accuracy: 1.0000\n",
            "Epoch 65/80\n",
            "100/100 [==============================] - 1s 6ms/step - loss: 6.9476e-05 - accuracy: 1.0000 - val_loss: 7.3143e-05 - val_accuracy: 1.0000\n",
            "Epoch 66/80\n",
            "100/100 [==============================] - 1s 6ms/step - loss: 6.7522e-05 - accuracy: 1.0000 - val_loss: 7.1260e-05 - val_accuracy: 1.0000\n",
            "Epoch 67/80\n",
            "100/100 [==============================] - 1s 7ms/step - loss: 6.5706e-05 - accuracy: 1.0000 - val_loss: 6.9296e-05 - val_accuracy: 1.0000\n",
            "Epoch 68/80\n",
            "100/100 [==============================] - 1s 7ms/step - loss: 6.3894e-05 - accuracy: 1.0000 - val_loss: 6.7387e-05 - val_accuracy: 1.0000\n",
            "Epoch 69/80\n",
            "100/100 [==============================] - 1s 7ms/step - loss: 6.2097e-05 - accuracy: 1.0000 - val_loss: 6.5687e-05 - val_accuracy: 1.0000\n",
            "Epoch 70/80\n",
            "100/100 [==============================] - 1s 7ms/step - loss: 6.0320e-05 - accuracy: 1.0000 - val_loss: 6.3644e-05 - val_accuracy: 1.0000\n",
            "Epoch 71/80\n",
            "100/100 [==============================] - 1s 6ms/step - loss: 5.8523e-05 - accuracy: 1.0000 - val_loss: 6.1869e-05 - val_accuracy: 1.0000\n",
            "Epoch 72/80\n",
            "100/100 [==============================] - 1s 6ms/step - loss: 5.6750e-05 - accuracy: 1.0000 - val_loss: 5.9815e-05 - val_accuracy: 1.0000\n",
            "Epoch 73/80\n",
            "100/100 [==============================] - 1s 6ms/step - loss: 5.4927e-05 - accuracy: 1.0000 - val_loss: 5.7839e-05 - val_accuracy: 1.0000\n",
            "Epoch 74/80\n",
            "100/100 [==============================] - 1s 6ms/step - loss: 5.3089e-05 - accuracy: 1.0000 - val_loss: 5.5959e-05 - val_accuracy: 1.0000\n",
            "Epoch 75/80\n",
            "100/100 [==============================] - 1s 6ms/step - loss: 5.1286e-05 - accuracy: 1.0000 - val_loss: 5.4059e-05 - val_accuracy: 1.0000\n",
            "Epoch 76/80\n",
            "100/100 [==============================] - 1s 6ms/step - loss: 4.9493e-05 - accuracy: 1.0000 - val_loss: 5.2185e-05 - val_accuracy: 1.0000\n",
            "Epoch 77/80\n",
            "100/100 [==============================] - 1s 6ms/step - loss: 4.7714e-05 - accuracy: 1.0000 - val_loss: 5.0208e-05 - val_accuracy: 1.0000\n",
            "Epoch 78/80\n",
            "100/100 [==============================] - 1s 5ms/step - loss: 4.5915e-05 - accuracy: 1.0000 - val_loss: 4.8386e-05 - val_accuracy: 1.0000\n",
            "Epoch 79/80\n",
            "100/100 [==============================] - 1s 6ms/step - loss: 4.4212e-05 - accuracy: 1.0000 - val_loss: 4.6395e-05 - val_accuracy: 1.0000\n",
            "Epoch 80/80\n",
            "100/100 [==============================] - 1s 6ms/step - loss: 4.2474e-05 - accuracy: 1.0000 - val_loss: 4.4528e-05 - val_accuracy: 1.0000\n"
          ]
        }
      ]
    },
    {
      "cell_type": "markdown",
      "source": [
        "##Confusion matrix for CNN"
      ],
      "metadata": {
        "id": "9rT2ErNzePBs"
      }
    },
    {
      "cell_type": "code",
      "source": [
        "import numpy as np\n",
        "from sklearn.metrics import confusion_matrix\n",
        "import matplotlib.pyplot as plt\n",
        "import seaborn as sns\n",
        "\n",
        "# Assuming history_conv is your history object returned by model.fit()\n",
        "# and conv_model is your trained model\n",
        "predicted_labels = conv_model.predict(test_data)\n",
        "\n",
        "# Convert one-hot encoded labels back to categorical labels\n",
        "predicted_labels = np.argmax(predicted_labels, axis=1)\n",
        "actual_labels = np.argmax(test_labels, axis=1)\n",
        "\n",
        "# Compute confusion matrix\n",
        "conf_matrix = confusion_matrix(actual_labels, predicted_labels)\n",
        "\n",
        "# Plot confusion matrix\n",
        "plt.figure(figsize=(10, 8))\n",
        "sns.heatmap(conf_matrix, annot=True, fmt='d', cmap='Blues', cbar=False)\n",
        "plt.xlabel('Predicted Labels')\n",
        "plt.ylabel('Actual Labels')\n",
        "plt.title('Confusion Matrix')\n",
        "plt.xticks(ticks=np.arange(len(np.unique(actual_labels))), labels=np.unique(actual_labels))\n",
        "plt.yticks(ticks=np.arange(len(np.unique(actual_labels))), labels=np.unique(actual_labels))\n",
        "plt.show()\n"
      ],
      "metadata": {
        "colab": {
          "base_uri": "https://localhost:8080/",
          "height": 736
        },
        "id": "B6ub634Jdamx",
        "outputId": "0593cabd-f54c-468c-e642-d1ee3738794a"
      },
      "execution_count": 22,
      "outputs": [
        {
          "output_type": "stream",
          "name": "stdout",
          "text": [
            "13/13 [==============================] - 0s 2ms/step\n"
          ]
        },
        {
          "output_type": "display_data",
          "data": {
            "text/plain": [
              "<Figure size 1000x800 with 1 Axes>"
            ],
            "image/png": "[encoded data removed]"
          },
          "metadata": {}
        }
      ]
    }
  ]
}