{
  "nbformat": 4,
  "nbformat_minor": 0,
  "metadata": {
    "colab": {
      "provenance": [],
      "gpuType": "T4"
    },
    "kernelspec": {
      "name": "python3",
      "display_name": "Python 3"
    },
    "language_info": {
      "name": "python"
    },
    "accelerator": "GPU"
  },
  "cells": [
    {
      "cell_type": "code",
      "execution_count": null,
      "metadata": {
        "id": "EwgGQlvsVwhg"
      },
      "outputs": [],
      "source": [
        "import string\n",
        "import random\n",
        "from random import randint\n",
        "import cv2\n",
        "import numpy as np\n",
        "import os\n",
        "from PIL import Image, ImageFont, ImageDraw"
      ]
    },
    {
      "cell_type": "markdown",
      "source": [
        "#Making the directory where boards will be saved\n"
      ],
      "metadata": {
        "id": "elvD764LV7hm"
      }
    },
    {
      "cell_type": "code",
      "source": [
        "# Run this command only once:\n",
        "\n",
        "# makes the output folder /content/boards/\n",
        "!mkdir boards"
      ],
      "metadata": {
        "id": "N99KHEgyV4xm"
      },
      "execution_count": null,
      "outputs": []
    },
    {
      "cell_type": "code",
      "source": [
        "from google.colab import drive\n",
        "drive.mount('/content/drive')"
      ],
      "metadata": {
        "colab": {
          "base_uri": "https://localhost:8080/"
        },
        "id": "GneXsJNzWGVe",
        "outputId": "8b18162a-754c-41dd-d45c-5919b58ebf25"
      },
      "execution_count": null,
      "outputs": [
        {
          "output_type": "stream",
          "name": "stdout",
          "text": [
            "Mounted at /content/drive\n"
          ]
        }
      ]
    },
    {
      "cell_type": "markdown",
      "source": [
        "#Board Generator"
      ],
      "metadata": {
        "id": "pjgkZ9T6WTEi"
      }
    },
    {
      "cell_type": "code",
      "source": [
        "#!/usr/bin/env python3\n",
        "\n",
        "import cv2\n",
        "import csv\n",
        "import numpy as np\n",
        "import os\n",
        "import random\n",
        "from PIL import Image, ImageFont, ImageDraw\n",
        "\n",
        "entries = {'SIZE': [''.join(random.choices(string.ascii_uppercase + string.digits + ' ', k=12)) for _ in range(20)],\n",
        "           'VICTIM': [''.join(random.choices(string.ascii_uppercase + string.digits+ ' ', k=12)) for _ in range(20)],\n",
        "           'CRIME': [''.join(random.choices(string.ascii_uppercase + string.digits+ ' ', k=12)) for _ in range(20)],\n",
        "           'TIME': [''.join(random.choices(string.ascii_uppercase + string.digits+ ' ', k=12)) for _ in range(20)],\n",
        "           'PLACE': [''.join(random.choices(string.ascii_uppercase + string.digits+ ' ', k=12)) for _ in range(20)],\n",
        "           'MOTIVE': [''.join(random.choices(string.ascii_uppercase + string.digits+ ' ', k=12)) for _ in range(20)],\n",
        "           'WEAPON': [''.join(random.choices(string.ascii_uppercase + string.digits+ ' ', k=12)) for _ in range(20)],\n",
        "           'BANDIT': [''.join(random.choices(string.ascii_uppercase + string.digits+ ' ', k=12)) for _ in range(20)]}\n",
        "\n",
        "num_boards = 200\n",
        "\n",
        "# Find the path to this script\n",
        "SCRIPT_PATH = os.getcwd() + \"/\"\n",
        "TEXTURE_PATH = '/content/drive/MyDrive/textures/'\n",
        "\n",
        "# Load the banner image\n",
        "banner_canvas = cv2.imread('/content/drive/MyDrive/clue_banner.png')\n",
        "PLATE_HEIGHT = 600\n",
        "PLATE_WIDTH = banner_canvas.shape[1]\n",
        "IMG_DEPTH = 3\n",
        "\n",
        "# write plates to plates.csv\n",
        "with open(SCRIPT_PATH + \"plates.csv\", 'w') as plates_file:\n",
        "    csvwriter = csv.writer(plates_file)\n",
        "\n",
        "    for i in range(num_boards):\n",
        "        # pick a random key from entries\n",
        "        key = random.choice(list(entries.keys()))\n",
        "\n",
        "        # pick a random value for the selected key\n",
        "        random_value = random.choice(entries[key])\n",
        "\n",
        "        # write the key-value pair to plates.csv\n",
        "        csvwriter.writerow([key, random_value])\n",
        "\n",
        "        # Generate plate\n",
        "        blank_plate_pil = Image.fromarray(banner_canvas)\n",
        "        draw = ImageDraw.Draw(blank_plate_pil)\n",
        "        font_size = 90\n",
        "        monospace = ImageFont.truetype(\"/content/drive/MyDrive/UbuntuMono-R.ttf\", font_size)\n",
        "        font_color = (255, 0, 0)\n",
        "        draw.text((250, 30), key, font_color, font=monospace)\n",
        "        draw.text((30, 250), random_value, font_color, font=monospace)\n",
        "        populated_banner = np.array(blank_plate_pil)\n",
        "\n",
        "        # Save image\n",
        "        cv2.imwrite(os.path.join(\"/content/boards\", f\"plate_{key}_{random_value}.png\"), populated_banner)"
      ],
      "metadata": {
        "id": "zzr8Nn7hWIT1"
      },
      "execution_count": null,
      "outputs": []
    },
    {
      "cell_type": "markdown",
      "source": [
        "#Pre-processing of image + Loading datasets"
      ],
      "metadata": {
        "id": "SCIMvuqRWs5z"
      }
    },
    {
      "cell_type": "code",
      "source": [
        "import cv2\n",
        "import os\n",
        "import numpy as np\n",
        "from sklearn.model_selection import train_test_split\n",
        "from tensorflow.keras.utils import to_categorical\n",
        "import matplotlib.pyplot as plt\n",
        "\n",
        "# Function to load and preprocess an image\n",
        "def preprocess_image(image_path):\n",
        "    image = cv2.imread(image_path, cv2.IMREAD_GRAYSCALE)  # Read the image in grayscale\n",
        "    # Apply any additional preprocessing steps here (resizing, normalization, etc.)\n",
        "    return image\n",
        "\n",
        "# Function to split the category and the word and split them into letters\n",
        "def split_image(imagepath):\n",
        "\n",
        "    image = preprocess_image(imagepath)\n",
        "\n",
        "    filename = os.path.basename(imagepath)\n",
        "\n",
        "    # Assuming the image is evenly split into 4 parts\n",
        "    h, w = image.shape\n",
        "\n",
        "    category_top_crop = int(0.05 * h)  # Calculate the number of rows to crop from the top\n",
        "    category_bottom_crop = int(0.65 * h)  # Calculate the number of rows to crop from the bottom\n",
        "\n",
        "    category_right_crop = int(0.13 * w)  # Calculate the number of columns to crop from the right\n",
        "    category_left_crop = int(0.42 * w)  # Calculate the number of columns to crop from the left\n",
        "\n",
        "    cropped_image_category = image[category_top_crop:h - category_bottom_crop, category_left_crop:w - category_right_crop]\n",
        "\n",
        "    word_top_crop = int(0.55 * h)  # Calculate the number of rows to crop from the top\n",
        "    word_bottom_crop = int(0.15 * h)  # Calculate the number of rows to crop from the bottom\n",
        "\n",
        "    word_right_crop = int(0.05 * w)  # Calculate the number of columns to crop from the right\n",
        "    word_left_crop = int(0.05*w)  # Calculate the number of columns to crop from the left\n",
        "\n",
        "    cropped_image_word = image[word_top_crop:h - word_bottom_crop, word_left_crop:w - word_right_crop]\n",
        "\n",
        "    h1, w1 = cropped_image_category.shape\n",
        "    h2, w2 = cropped_image_word.shape\n",
        "\n",
        "    letter_width_category = int(w1 / 6)  # Calculate the width of each letter (category)\n",
        "    letter_width_word = int(w2 / 12)  # Calculate the width of each letter (word)\n",
        "\n",
        "    # Splitting the letters\n",
        "    letters_category = [cropped_image_category[:, i * letter_width_category: (i + 1) * letter_width_category] for i in range(6)]\n",
        "    letters_word = [cropped_image_word[:, i * letter_width_word: (i + 1) * letter_width_word] for i in range(12)]\n",
        "\n",
        "    # Splitting the filename\n",
        "    parts = filename.split('_')\n",
        "    category_ground_truth_labels = parts[1]\n",
        "    word_ground_truth_labels = '_'.join(parts[2:])\n",
        "\n",
        "    return letters_category, category_ground_truth_labels, letters_word, word_ground_truth_labels\n",
        "\n",
        "def load_dataset():\n",
        "    data = []\n",
        "    labels = []\n",
        "\n",
        "    input_image_folder = \"/content/boards\"\n",
        "    output_folder_letters = \"/content/categories\"\n",
        "\n",
        "    os.makedirs(output_folder_letters, exist_ok=True)\n",
        "\n",
        "    i = 0\n",
        "\n",
        "    for filename in os.listdir(input_image_folder):\n",
        "        if filename.endswith('.jpg') or filename.endswith('.png'):\n",
        "\n",
        "            i += 1\n",
        "\n",
        "            image_path = os.path.join(input_image_folder, filename)\n",
        "\n",
        "            # Split the license plate image into 4 letters\n",
        "            letters_category, category_ground_truth_labels, letters_word, word_ground_truth_labels = split_image(image_path)\n",
        "\n",
        "            # Create a subdirectory for each input image in the output folder\n",
        "            output_subfolder_letters = os.path.join(output_folder_letters, os.path.splitext(filename)[0])\n",
        "            os.makedirs(output_subfolder_letters, exist_ok=True)\n",
        "\n",
        "            for i, letter_image in enumerate(letters_category):\n",
        "                output_path_c = os.path.join(output_subfolder_letters, f\"categoryletter_{i + 1}.png\")\n",
        "                cv2.imwrite(output_path_c, letter_image)\n",
        "\n",
        "            for i, letter_image in enumerate(letters_word):\n",
        "                output_path_w = os.path.join(output_subfolder_letters, f\"wordletter_{i + 1}.png\")\n",
        "                cv2.imwrite(output_path_w, letter_image)\n",
        "\n",
        "            for i in range(len(category_ground_truth_labels)):\n",
        "                data.append(letters_category[i])  # Append individual letter images\n",
        "                labels.append(category_ground_truth_labels[i])  # Assuming ground truth labels are in order\n",
        "\n",
        "            for i in range(12):\n",
        "                data.append(letters_word[i])\n",
        "                labels.append(word_ground_truth_labels[i])\n",
        "\n",
        "    return data, labels\n",
        "\n",
        "data, labels = load_dataset()\n",
        "\n",
        "data = np.array(data)\n",
        "labels = np.array(labels)\n",
        "\n",
        "# Perform one-hot encoding on the labels\n",
        "label_dict = {label: i for i, label in enumerate(set(labels))}\n",
        "encoded_labels = to_categorical(np.vectorize(label_dict.get)(labels), num_classes=len(label_dict))\n",
        "\n",
        "# Split the category dataset into training and testing sets\n",
        "train_data, test_data, train_labels, test_labels = train_test_split(data, encoded_labels, test_size=0.2, random_state=42)"
      ],
      "metadata": {
        "id": "lKaZK-3TWZ68"
      },
      "execution_count": null,
      "outputs": []
    },
    {
      "cell_type": "markdown",
      "source": [
        "#Making the CNN"
      ],
      "metadata": {
        "id": "u4EcBr_LcD7p"
      }
    },
    {
      "cell_type": "code",
      "source": [
        "from tensorflow.keras import layers\n",
        "from tensorflow.keras import models\n",
        "from tensorflow.keras import optimizers\n",
        "\n",
        "from tensorflow.keras.utils import plot_model\n",
        "from tensorflow.keras import backend"
      ],
      "metadata": {
        "id": "YI299b0TcGMo"
      },
      "execution_count": null,
      "outputs": []
    },
    {
      "cell_type": "markdown",
      "source": [
        "##Reinitializing model parameters"
      ],
      "metadata": {
        "id": "NoJda8secOBK"
      }
    },
    {
      "cell_type": "code",
      "source": [
        "# This is a function used to reinitialize the model parameters (weights and biases)\n",
        "\n",
        "def reset_weights(model):\n",
        "  for ix, layer in enumerate(model.layers):\n",
        "      if (hasattr(model.layers[ix], 'kernel_initializer') and\n",
        "          hasattr(model.layers[ix], 'bias_initializer')):\n",
        "          weight_initializer = model.layers[ix].kernel_initializer\n",
        "          bias_initializer = model.layers[ix].bias_initializer\n",
        "\n",
        "          old_weights, old_biases = model.layers[ix].get_weights()\n",
        "\n",
        "          model.layers[ix].set_weights([\n",
        "              weight_initializer(shape=old_weights.shape),\n",
        "              bias_initializer(shape=len(old_biases))])"
      ],
      "metadata": {
        "id": "WIQnR5vPcIdi"
      },
      "execution_count": null,
      "outputs": []
    },
    {
      "cell_type": "markdown",
      "source": [
        "##Creating the CNN model"
      ],
      "metadata": {
        "id": "Bqho4Kq-conb"
      }
    },
    {
      "cell_type": "code",
      "source": [
        "# Define the CNN model\n",
        "def create_cnn_model(input_shape):\n",
        "    model = models.Sequential()\n",
        "\n",
        "    # Add a Conv2D layer with 32 filters, a 3x3 kernel, and 'relu' activation function\n",
        "    model.add(layers.Conv2D(32, (3, 3), activation='relu', input_shape=input_shape))\n",
        "    model.add(layers.MaxPooling2D((2, 2)))\n",
        "\n",
        "    # Add another Conv2D layer with 64 filters, a 3x3 kernel, and 'relu' activation function\n",
        "    model.add(layers.Conv2D(64, (3, 3), activation='relu'))\n",
        "    model.add(layers.MaxPooling2D((2, 2)))\n",
        "\n",
        "    # Add a Flatten layer to flatten the 2D output to 1D\n",
        "    model.add(layers.Flatten())\n",
        "\n",
        "    # Add a Dense layer with 128 units and 'relu' activation function\n",
        "    model.add(layers.Dense(128, activation='relu'))\n",
        "\n",
        "    # Add the output layer with the number of classes and 'softmax' activation function\n",
        "    num_classes = len(label_dict)\n",
        "    model.add(layers.Dense(num_classes, activation='softmax'))\n",
        "\n",
        "    # Compile the model with 'adam' optimizer, 'categorical_crossentropy' loss, and 'accuracy' metric\n",
        "    model.compile(optimizer='adam', loss='categorical_crossentropy', metrics=['accuracy'])\n",
        "\n",
        "    return model"
      ],
      "metadata": {
        "id": "TY0Zlw5rckR_"
      },
      "execution_count": null,
      "outputs": []
    },
    {
      "cell_type": "code",
      "source": [
        "# Assuming each letter image has shape (height, width, channels)\n",
        "input_shape = data[0].shape + (1,)  # Add a channel dimension for grayscale images\n",
        "\n",
        "# Create the CNN model\n",
        "conv_model = create_cnn_model(input_shape)\n",
        "\n",
        "# Print the model summary\n",
        "conv_model.summary()"
      ],
      "metadata": {
        "colab": {
          "base_uri": "https://localhost:8080/"
        },
        "id": "_ZuoWhN-cvH8",
        "outputId": "50f69c19-a418-4958-c055-27c3f1e99668"
      },
      "execution_count": null,
      "outputs": [
        {
          "output_type": "stream",
          "name": "stdout",
          "text": [
            "Model: \"sequential_1\"\n",
            "_________________________________________________________________\n",
            " Layer (type)                Output Shape              Param #   \n",
            "=================================================================\n",
            " conv2d_2 (Conv2D)           (None, 118, 43, 32)       320       \n",
            "                                                                 \n",
            " max_pooling2d_2 (MaxPoolin  (None, 59, 21, 32)        0         \n",
            " g2D)                                                            \n",
            "                                                                 \n",
            " conv2d_3 (Conv2D)           (None, 57, 19, 64)        18496     \n",
            "                                                                 \n",
            " max_pooling2d_3 (MaxPoolin  (None, 28, 9, 64)         0         \n",
            " g2D)                                                            \n",
            "                                                                 \n",
            " flatten_1 (Flatten)         (None, 16128)             0         \n",
            "                                                                 \n",
            " dense_2 (Dense)             (None, 128)               2064512   \n",
            "                                                                 \n",
            " dense_3 (Dense)             (None, 37)                4773      \n",
            "                                                                 \n",
            "=================================================================\n",
            "Total params: 2088101 (7.97 MB)\n",
            "Trainable params: 2088101 (7.97 MB)\n",
            "Non-trainable params: 0 (0.00 Byte)\n",
            "_________________________________________________________________\n"
          ]
        }
      ]
    },
    {
      "cell_type": "markdown",
      "source": [
        "##Resetting weights"
      ],
      "metadata": {
        "id": "wpOAfW15dIFX"
      }
    },
    {
      "cell_type": "code",
      "source": [
        "reset_weights(conv_model)"
      ],
      "metadata": {
        "colab": {
          "base_uri": "https://localhost:8080/"
        },
        "id": "SowQa6DWdMrk",
        "outputId": "78231f33-a7be-4b56-b7c3-4928c0743cc1"
      },
      "execution_count": null,
      "outputs": [
        {
          "output_type": "stream",
          "name": "stderr",
          "text": [
            "/usr/local/lib/python3.10/dist-packages/keras/src/initializers/initializers.py:120: UserWarning: The initializer GlorotUniform is unseeded and being called multiple times, which will return identical values each time (even if the initializer is unseeded). Please update your code to provide a seed to the initializer, or avoid using the same initializer instance more than once.\n",
            "  warnings.warn(\n"
          ]
        }
      ]
    },
    {
      "cell_type": "markdown",
      "source": [
        "##Training the model"
      ],
      "metadata": {
        "id": "Ve-A_g48dRyo"
      }
    },
    {
      "cell_type": "code",
      "source": [
        "history_conv = conv_model.fit(train_data, train_labels,\n",
        "                              validation_data=(test_data, test_labels),\n",
        "                              epochs=80,\n",
        "                              batch_size=16)"
      ],
      "metadata": {
        "colab": {
          "base_uri": "https://localhost:8080/"
        },
        "id": "UaOfRxQtdQIy",
        "outputId": "43cb780c-6632-4491-d2e4-15deb48e44f7"
      },
      "execution_count": null,
      "outputs": [
        {
          "output_type": "stream",
          "name": "stdout",
          "text": [
            "Epoch 1/80\n",
            "99/99 [==============================] - 6s 18ms/step - loss: 16.3569 - accuracy: 0.8101 - val_loss: 0.0997 - val_accuracy: 1.0000\n",
            "Epoch 2/80\n",
            "99/99 [==============================] - 1s 7ms/step - loss: 0.0763 - accuracy: 1.0000 - val_loss: 0.0978 - val_accuracy: 1.0000\n",
            "Epoch 3/80\n",
            "99/99 [==============================] - 1s 6ms/step - loss: 0.0749 - accuracy: 1.0000 - val_loss: 0.0961 - val_accuracy: 1.0000\n",
            "Epoch 4/80\n",
            "99/99 [==============================] - 1s 5ms/step - loss: 0.0737 - accuracy: 1.0000 - val_loss: 0.0945 - val_accuracy: 1.0000\n",
            "Epoch 5/80\n",
            "99/99 [==============================] - 1s 5ms/step - loss: 0.0724 - accuracy: 1.0000 - val_loss: 0.0929 - val_accuracy: 1.0000\n",
            "Epoch 6/80\n",
            "99/99 [==============================] - 1s 5ms/step - loss: 0.0711 - accuracy: 1.0000 - val_loss: 0.0911 - val_accuracy: 1.0000\n",
            "Epoch 7/80\n",
            "99/99 [==============================] - 1s 5ms/step - loss: 0.0697 - accuracy: 1.0000 - val_loss: 0.0894 - val_accuracy: 1.0000\n",
            "Epoch 8/80\n",
            "99/99 [==============================] - 1s 5ms/step - loss: 0.0684 - accuracy: 1.0000 - val_loss: 0.0874 - val_accuracy: 1.0000\n",
            "Epoch 9/80\n",
            "99/99 [==============================] - 1s 5ms/step - loss: 0.0669 - accuracy: 1.0000 - val_loss: 0.0857 - val_accuracy: 1.0000\n",
            "Epoch 10/80\n",
            "99/99 [==============================] - 1s 5ms/step - loss: 0.0655 - accuracy: 1.0000 - val_loss: 0.0838 - val_accuracy: 1.0000\n",
            "Epoch 11/80\n",
            "99/99 [==============================] - 1s 5ms/step - loss: 0.0640 - accuracy: 1.0000 - val_loss: 0.0817 - val_accuracy: 1.0000\n",
            "Epoch 12/80\n",
            "99/99 [==============================] - 1s 5ms/step - loss: 0.0625 - accuracy: 1.0000 - val_loss: 0.0797 - val_accuracy: 1.0000\n",
            "Epoch 13/80\n",
            "99/99 [==============================] - 1s 6ms/step - loss: 0.0608 - accuracy: 1.0000 - val_loss: 0.0776 - val_accuracy: 1.0000\n",
            "Epoch 14/80\n",
            "99/99 [==============================] - 1s 5ms/step - loss: 0.0591 - accuracy: 1.0000 - val_loss: 0.0753 - val_accuracy: 1.0000\n",
            "Epoch 15/80\n",
            "99/99 [==============================] - 1s 5ms/step - loss: 0.0573 - accuracy: 1.0000 - val_loss: 0.0730 - val_accuracy: 1.0000\n",
            "Epoch 16/80\n",
            "99/99 [==============================] - 1s 5ms/step - loss: 0.0554 - accuracy: 1.0000 - val_loss: 0.0702 - val_accuracy: 1.0000\n",
            "Epoch 17/80\n",
            "99/99 [==============================] - 1s 5ms/step - loss: 0.0533 - accuracy: 1.0000 - val_loss: 0.0675 - val_accuracy: 1.0000\n",
            "Epoch 18/80\n",
            "99/99 [==============================] - 1s 5ms/step - loss: 0.0510 - accuracy: 1.0000 - val_loss: 0.0646 - val_accuracy: 1.0000\n",
            "Epoch 19/80\n",
            "99/99 [==============================] - 1s 5ms/step - loss: 0.0485 - accuracy: 1.0000 - val_loss: 0.0608 - val_accuracy: 1.0000\n",
            "Epoch 20/80\n",
            "99/99 [==============================] - 1s 5ms/step - loss: 0.0457 - accuracy: 1.0000 - val_loss: 0.0573 - val_accuracy: 1.0000\n",
            "Epoch 21/80\n",
            "99/99 [==============================] - 1s 6ms/step - loss: 0.0428 - accuracy: 1.0000 - val_loss: 0.0533 - val_accuracy: 1.0000\n",
            "Epoch 22/80\n",
            "99/99 [==============================] - 1s 7ms/step - loss: 0.0396 - accuracy: 1.0000 - val_loss: 0.0490 - val_accuracy: 1.0000\n",
            "Epoch 23/80\n",
            "99/99 [==============================] - 1s 7ms/step - loss: 0.0363 - accuracy: 1.0000 - val_loss: 0.0447 - val_accuracy: 1.0000\n",
            "Epoch 24/80\n",
            "99/99 [==============================] - 1s 7ms/step - loss: 0.0328 - accuracy: 1.0000 - val_loss: 0.0401 - val_accuracy: 1.0000\n",
            "Epoch 25/80\n",
            "99/99 [==============================] - 1s 7ms/step - loss: 0.0293 - accuracy: 1.0000 - val_loss: 0.0356 - val_accuracy: 1.0000\n",
            "Epoch 26/80\n",
            "99/99 [==============================] - 1s 5ms/step - loss: 0.0259 - accuracy: 1.0000 - val_loss: 0.0311 - val_accuracy: 1.0000\n",
            "Epoch 27/80\n",
            "99/99 [==============================] - 1s 5ms/step - loss: 0.0225 - accuracy: 1.0000 - val_loss: 0.0271 - val_accuracy: 1.0000\n",
            "Epoch 28/80\n",
            "99/99 [==============================] - 1s 5ms/step - loss: 0.0195 - accuracy: 1.0000 - val_loss: 0.0232 - val_accuracy: 1.0000\n",
            "Epoch 29/80\n",
            "99/99 [==============================] - 1s 5ms/step - loss: 0.0167 - accuracy: 1.0000 - val_loss: 0.0198 - val_accuracy: 1.0000\n",
            "Epoch 30/80\n",
            "99/99 [==============================] - 1s 6ms/step - loss: 0.0142 - accuracy: 1.0000 - val_loss: 0.0168 - val_accuracy: 1.0000\n",
            "Epoch 31/80\n",
            "99/99 [==============================] - 1s 5ms/step - loss: 0.0120 - accuracy: 1.0000 - val_loss: 0.0144 - val_accuracy: 1.0000\n",
            "Epoch 32/80\n",
            "99/99 [==============================] - 1s 5ms/step - loss: 0.0102 - accuracy: 1.0000 - val_loss: 0.0121 - val_accuracy: 1.0000\n",
            "Epoch 33/80\n",
            "99/99 [==============================] - 1s 5ms/step - loss: 0.0086 - accuracy: 1.0000 - val_loss: 0.0102 - val_accuracy: 1.0000\n",
            "Epoch 34/80\n",
            "99/99 [==============================] - 1s 5ms/step - loss: 0.0074 - accuracy: 1.0000 - val_loss: 0.0089 - val_accuracy: 1.0000\n",
            "Epoch 35/80\n",
            "99/99 [==============================] - 1s 5ms/step - loss: 0.0063 - accuracy: 1.0000 - val_loss: 0.0075 - val_accuracy: 1.0000\n",
            "Epoch 36/80\n",
            "99/99 [==============================] - 1s 5ms/step - loss: 0.0054 - accuracy: 1.0000 - val_loss: 0.0065 - val_accuracy: 1.0000\n",
            "Epoch 37/80\n",
            "99/99 [==============================] - 1s 5ms/step - loss: 0.0047 - accuracy: 1.0000 - val_loss: 0.0056 - val_accuracy: 1.0000\n",
            "Epoch 38/80\n",
            "99/99 [==============================] - 1s 5ms/step - loss: 0.0041 - accuracy: 1.0000 - val_loss: 0.0049 - val_accuracy: 1.0000\n",
            "Epoch 39/80\n",
            "99/99 [==============================] - 1s 5ms/step - loss: 0.0035 - accuracy: 1.0000 - val_loss: 0.0043 - val_accuracy: 1.0000\n",
            "Epoch 40/80\n",
            "99/99 [==============================] - 1s 5ms/step - loss: 0.0031 - accuracy: 1.0000 - val_loss: 0.0038 - val_accuracy: 1.0000\n",
            "Epoch 41/80\n",
            "99/99 [==============================] - 1s 5ms/step - loss: 0.0028 - accuracy: 1.0000 - val_loss: 0.0033 - val_accuracy: 1.0000\n",
            "Epoch 42/80\n",
            "99/99 [==============================] - 1s 5ms/step - loss: 0.0024 - accuracy: 1.0000 - val_loss: 0.0030 - val_accuracy: 1.0000\n",
            "Epoch 43/80\n",
            "99/99 [==============================] - 1s 5ms/step - loss: 0.0022 - accuracy: 1.0000 - val_loss: 0.0026 - val_accuracy: 1.0000\n",
            "Epoch 44/80\n",
            "99/99 [==============================] - 1s 6ms/step - loss: 0.0019 - accuracy: 1.0000 - val_loss: 0.0024 - val_accuracy: 1.0000\n",
            "Epoch 45/80\n",
            "99/99 [==============================] - 1s 7ms/step - loss: 0.0017 - accuracy: 1.0000 - val_loss: 0.0021 - val_accuracy: 1.0000\n",
            "Epoch 46/80\n",
            "99/99 [==============================] - 1s 6ms/step - loss: 0.0016 - accuracy: 1.0000 - val_loss: 0.0019 - val_accuracy: 1.0000\n",
            "Epoch 47/80\n",
            "99/99 [==============================] - 1s 7ms/step - loss: 0.0014 - accuracy: 1.0000 - val_loss: 0.0017 - val_accuracy: 1.0000\n",
            "Epoch 48/80\n",
            "99/99 [==============================] - 1s 6ms/step - loss: 0.0013 - accuracy: 1.0000 - val_loss: 0.0016 - val_accuracy: 1.0000\n",
            "Epoch 49/80\n",
            "99/99 [==============================] - 1s 5ms/step - loss: 0.0012 - accuracy: 1.0000 - val_loss: 0.0014 - val_accuracy: 1.0000\n",
            "Epoch 50/80\n",
            "99/99 [==============================] - 1s 5ms/step - loss: 0.0011 - accuracy: 1.0000 - val_loss: 0.0013 - val_accuracy: 1.0000\n",
            "Epoch 51/80\n",
            "99/99 [==============================] - 1s 5ms/step - loss: 9.6592e-04 - accuracy: 1.0000 - val_loss: 0.0012 - val_accuracy: 1.0000\n",
            "Epoch 52/80\n",
            "99/99 [==============================] - 1s 5ms/step - loss: 8.8252e-04 - accuracy: 1.0000 - val_loss: 0.0011 - val_accuracy: 1.0000\n",
            "Epoch 53/80\n",
            "99/99 [==============================] - 1s 5ms/step - loss: 8.0929e-04 - accuracy: 1.0000 - val_loss: 0.0010 - val_accuracy: 1.0000\n",
            "Epoch 54/80\n",
            "99/99 [==============================] - 1s 5ms/step - loss: 7.4182e-04 - accuracy: 1.0000 - val_loss: 9.1972e-04 - val_accuracy: 1.0000\n",
            "Epoch 55/80\n",
            "99/99 [==============================] - 1s 5ms/step - loss: 6.8278e-04 - accuracy: 1.0000 - val_loss: 8.4493e-04 - val_accuracy: 1.0000\n",
            "Epoch 56/80\n",
            "99/99 [==============================] - 1s 5ms/step - loss: 6.2880e-04 - accuracy: 1.0000 - val_loss: 7.7781e-04 - val_accuracy: 1.0000\n",
            "Epoch 57/80\n",
            "99/99 [==============================] - 1s 5ms/step - loss: 5.7956e-04 - accuracy: 1.0000 - val_loss: 7.1877e-04 - val_accuracy: 1.0000\n",
            "Epoch 58/80\n",
            "99/99 [==============================] - 1s 5ms/step - loss: 5.3535e-04 - accuracy: 1.0000 - val_loss: 6.6602e-04 - val_accuracy: 1.0000\n",
            "Epoch 59/80\n",
            "99/99 [==============================] - 1s 5ms/step - loss: 4.9544e-04 - accuracy: 1.0000 - val_loss: 6.1867e-04 - val_accuracy: 1.0000\n",
            "Epoch 60/80\n",
            "99/99 [==============================] - 1s 5ms/step - loss: 4.5888e-04 - accuracy: 1.0000 - val_loss: 5.7175e-04 - val_accuracy: 1.0000\n",
            "Epoch 61/80\n",
            "99/99 [==============================] - 1s 5ms/step - loss: 4.2563e-04 - accuracy: 1.0000 - val_loss: 5.2931e-04 - val_accuracy: 1.0000\n",
            "Epoch 62/80\n",
            "99/99 [==============================] - 1s 5ms/step - loss: 3.9503e-04 - accuracy: 1.0000 - val_loss: 4.9167e-04 - val_accuracy: 1.0000\n",
            "Epoch 63/80\n",
            "99/99 [==============================] - 1s 5ms/step - loss: 3.6699e-04 - accuracy: 1.0000 - val_loss: 4.5769e-04 - val_accuracy: 1.0000\n",
            "Epoch 64/80\n",
            "99/99 [==============================] - 1s 5ms/step - loss: 3.4112e-04 - accuracy: 1.0000 - val_loss: 4.2696e-04 - val_accuracy: 1.0000\n",
            "Epoch 65/80\n",
            "99/99 [==============================] - 1s 5ms/step - loss: 3.1774e-04 - accuracy: 1.0000 - val_loss: 3.9669e-04 - val_accuracy: 1.0000\n",
            "Epoch 66/80\n",
            "99/99 [==============================] - 1s 5ms/step - loss: 2.9617e-04 - accuracy: 1.0000 - val_loss: 3.6918e-04 - val_accuracy: 1.0000\n",
            "Epoch 67/80\n",
            "99/99 [==============================] - 1s 6ms/step - loss: 2.7594e-04 - accuracy: 1.0000 - val_loss: 3.4671e-04 - val_accuracy: 1.0000\n",
            "Epoch 68/80\n",
            "99/99 [==============================] - 1s 7ms/step - loss: 2.5768e-04 - accuracy: 1.0000 - val_loss: 3.2186e-04 - val_accuracy: 1.0000\n",
            "Epoch 69/80\n",
            "99/99 [==============================] - 1s 6ms/step - loss: 2.4044e-04 - accuracy: 1.0000 - val_loss: 3.0002e-04 - val_accuracy: 1.0000\n",
            "Epoch 70/80\n",
            "99/99 [==============================] - 1s 7ms/step - loss: 2.2463e-04 - accuracy: 1.0000 - val_loss: 2.8107e-04 - val_accuracy: 1.0000\n",
            "Epoch 71/80\n",
            "99/99 [==============================] - 1s 6ms/step - loss: 2.1005e-04 - accuracy: 1.0000 - val_loss: 2.6242e-04 - val_accuracy: 1.0000\n",
            "Epoch 72/80\n",
            "99/99 [==============================] - 1s 5ms/step - loss: 1.9651e-04 - accuracy: 1.0000 - val_loss: 2.4706e-04 - val_accuracy: 1.0000\n",
            "Epoch 73/80\n",
            "99/99 [==============================] - 1s 5ms/step - loss: 1.8386e-04 - accuracy: 1.0000 - val_loss: 2.3023e-04 - val_accuracy: 1.0000\n",
            "Epoch 74/80\n",
            "99/99 [==============================] - 1s 5ms/step - loss: 1.7204e-04 - accuracy: 1.0000 - val_loss: 2.1551e-04 - val_accuracy: 1.0000\n",
            "Epoch 75/80\n",
            "99/99 [==============================] - 1s 5ms/step - loss: 1.6112e-04 - accuracy: 1.0000 - val_loss: 2.0159e-04 - val_accuracy: 1.0000\n",
            "Epoch 76/80\n",
            "99/99 [==============================] - 1s 5ms/step - loss: 1.5108e-04 - accuracy: 1.0000 - val_loss: 1.8851e-04 - val_accuracy: 1.0000\n",
            "Epoch 77/80\n",
            "99/99 [==============================] - 1s 5ms/step - loss: 1.4174e-04 - accuracy: 1.0000 - val_loss: 1.7701e-04 - val_accuracy: 1.0000\n",
            "Epoch 78/80\n",
            "99/99 [==============================] - 1s 5ms/step - loss: 1.3292e-04 - accuracy: 1.0000 - val_loss: 1.6709e-04 - val_accuracy: 1.0000\n",
            "Epoch 79/80\n",
            "99/99 [==============================] - 1s 5ms/step - loss: 1.2484e-04 - accuracy: 1.0000 - val_loss: 1.5608e-04 - val_accuracy: 1.0000\n",
            "Epoch 80/80\n",
            "99/99 [==============================] - 1s 5ms/step - loss: 1.1716e-04 - accuracy: 1.0000 - val_loss: 1.4654e-04 - val_accuracy: 1.0000\n"
          ]
        }
      ]
    },
    {
      "cell_type": "markdown",
      "source": [
        "##Confusion matrix for CNN"
      ],
      "metadata": {
        "id": "9rT2ErNzePBs"
      }
    },
    {
      "cell_type": "code",
      "source": [
        "import numpy as np\n",
        "from sklearn.metrics import confusion_matrix\n",
        "import matplotlib.pyplot as plt\n",
        "import seaborn as sns\n",
        "\n",
        "# Assuming history_conv is your history object returned by model.fit()\n",
        "# and conv_model is your trained model\n",
        "predicted_labels = conv_model.predict(test_data)\n",
        "\n",
        "# Convert one-hot encoded labels back to categorical labels\n",
        "predicted_labels = np.argmax(predicted_labels, axis=1)\n",
        "actual_labels = np.argmax(test_labels, axis=1)\n",
        "\n",
        "# Compute confusion matrix\n",
        "conf_matrix = confusion_matrix(actual_labels, predicted_labels)\n",
        "\n",
        "# Plot confusion matrix\n",
        "plt.figure(figsize=(10, 8))\n",
        "sns.heatmap(conf_matrix, annot=True, fmt='d', cmap='Blues', cbar=False)\n",
        "plt.xlabel('Predicted Labels')\n",
        "plt.ylabel('Actual Labels')\n",
        "plt.title('Confusion Matrix')\n",
        "plt.xticks(ticks=np.arange(len(np.unique(actual_labels))), labels=np.unique(actual_labels))\n",
        "plt.yticks(ticks=np.arange(len(np.unique(actual_labels))), labels=np.unique(actual_labels))\n",
        "plt.show()\n"
      ],
      "metadata": {
        "colab": {
          "base_uri": "https://localhost:8080/",
          "height": 736
        },
        "id": "B6ub634Jdamx",
        "outputId": "b66c96db-09ba-4fe1-e98f-6b317e069868"
      },
      "execution_count": null,
      "outputs": [
        {
          "output_type": "stream",
          "name": "stdout",
          "text": [
            "13/13 [==============================] - 0s 3ms/step\n"
          ]
        },
        {
          "output_type": "display_data",
          "data": {
            "text/plain": [
              "<Figure size 1000x800 with 1 Axes>"
            ],
            "image/png": "[encoded data removed]"
          },
          "metadata": {}
        }
      ]
    },
    {
      "cell_type": "code",
      "source": [],
      "metadata": {
        "id": "1OM9nN6igUM8"
      },
      "execution_count": null,
      "outputs": []
    }
  ]
}